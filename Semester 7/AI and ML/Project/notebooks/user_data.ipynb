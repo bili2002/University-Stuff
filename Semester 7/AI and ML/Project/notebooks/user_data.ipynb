{
 "cells": [
  {
   "cell_type": "markdown",
   "metadata": {},
   "source": [
    "# User data"
   ]
  },
  {
   "cell_type": "markdown",
   "metadata": {},
   "source": [
    "This notebook looks at `dataset/user_data.csv` and prepares it for use. Saving the clean dataset in `dataset/user_data_cleaned`."
   ]
  },
  {
   "cell_type": "markdown",
   "metadata": {},
   "source": [
    "# Imports"
   ]
  },
  {
   "cell_type": "code",
   "execution_count": 17,
   "metadata": {},
   "outputs": [],
   "source": [
    "%reset -f\n",
    "\n",
    "import pandas as pd\n",
    "import numpy as np\n",
    "import random"
   ]
  },
  {
   "cell_type": "markdown",
   "metadata": {},
   "source": [
    "# Prepare dataset"
   ]
  },
  {
   "cell_type": "code",
   "execution_count": 18,
   "metadata": {},
   "outputs": [
    {
     "name": "stdout",
     "output_type": "stream",
     "text": [
      "200000\n"
     ]
    }
   ],
   "source": [
    "df = pd.read_csv(\n",
    "    '../dataset/user_data.csv',\n",
    "    header=None,\n",
    "    names=[\"user_id\", \"game\", \"behavior\", \"value\", \"dummy\"],\n",
    ")\n",
    "\n",
    "print(len(df))"
   ]
  },
  {
   "cell_type": "code",
   "execution_count": 19,
   "metadata": {},
   "outputs": [
    {
     "name": "stdout",
     "output_type": "stream",
     "text": [
      "user_id     0\n",
      "game        0\n",
      "behavior    0\n",
      "value       0\n",
      "dummy       0\n",
      "dtype: int64\n"
     ]
    }
   ],
   "source": [
    "print(df.isnull().sum())"
   ]
  },
  {
   "cell_type": "code",
   "execution_count": 20,
   "metadata": {},
   "outputs": [
    {
     "name": "stdout",
     "output_type": "stream",
     "text": [
      "Average number of distinct games per user: 10.393286532720085\n",
      "25th percentile: 1.0\n",
      "25th percentile: 2.0\n",
      "75th percentile: 6.0\n"
     ]
    }
   ],
   "source": [
    "user_games = df.groupby(\"user_id\")[\"game\"].nunique()\n",
    "print(\"Average number of distinct games per user:\", user_games.mean())\n",
    "print(\"25th percentile:\", user_games.quantile(0.25))\n",
    "print(\"25th percentile:\", user_games.quantile(0.5))\n",
    "print(\"75th percentile:\", user_games.quantile(0.75))"
   ]
  },
  {
   "cell_type": "code",
   "execution_count": 6,
   "metadata": {},
   "outputs": [
    {
     "name": "stdout",
     "output_type": "stream",
     "text": [
      "Most popular games:\n",
      " game\n",
      "Dota 2                             9682\n",
      "Team Fortress 2                    4646\n",
      "Counter-Strike Global Offensive    2789\n",
      "Unturned                           2632\n",
      "Left 4 Dead 2                      1752\n",
      "Counter-Strike Source              1693\n",
      "Counter-Strike                     1424\n",
      "Garry's Mod                        1397\n",
      "The Elder Scrolls V Skyrim         1394\n",
      "Warframe                           1271\n",
      "Name: count, dtype: int64\n"
     ]
    }
   ],
   "source": [
    "popularity = df[\"game\"].value_counts()\n",
    "print(\"Most popular games:\\n\", popularity.head(10))"
   ]
  },
  {
   "cell_type": "code",
   "execution_count": 7,
   "metadata": {},
   "outputs": [
    {
     "name": "stdout",
     "output_type": "stream",
     "text": [
      "Number of unique users: 12393\n",
      "Number of unique games: 5155\n"
     ]
    }
   ],
   "source": [
    "unique_users = df[\"user_id\"].nunique()\n",
    "unique_games = df[\"game\"].nunique()\n",
    "\n",
    "print(f\"Number of unique users: {unique_users}\")\n",
    "print(f\"Number of unique games: {unique_games}\")"
   ]
  },
  {
   "cell_type": "code",
   "execution_count": 8,
   "metadata": {},
   "outputs": [],
   "source": [
    "df.drop(columns=[\"dummy\"], inplace=True)"
   ]
  },
  {
   "cell_type": "code",
   "execution_count": 9,
   "metadata": {},
   "outputs": [
    {
     "name": "stdout",
     "output_type": "stream",
     "text": [
      "These entries have duplicate (user_id, game) pairs:\n"
     ]
    },
    {
     "data": {
      "text/html": [
       "<div>\n",
       "<style scoped>\n",
       "    .dataframe tbody tr th:only-of-type {\n",
       "        vertical-align: middle;\n",
       "    }\n",
       "\n",
       "    .dataframe tbody tr th {\n",
       "        vertical-align: top;\n",
       "    }\n",
       "\n",
       "    .dataframe thead th {\n",
       "        text-align: right;\n",
       "    }\n",
       "</style>\n",
       "<table border=\"1\" class=\"dataframe\">\n",
       "  <thead>\n",
       "    <tr style=\"text-align: right;\">\n",
       "      <th></th>\n",
       "      <th>user_id</th>\n",
       "      <th>game</th>\n",
       "      <th>behavior</th>\n",
       "      <th>value</th>\n",
       "    </tr>\n",
       "  </thead>\n",
       "  <tbody>\n",
       "    <tr>\n",
       "      <th>0</th>\n",
       "      <td>151603712</td>\n",
       "      <td>The Elder Scrolls V Skyrim</td>\n",
       "      <td>purchase</td>\n",
       "      <td>1.0</td>\n",
       "    </tr>\n",
       "    <tr>\n",
       "      <th>1</th>\n",
       "      <td>151603712</td>\n",
       "      <td>The Elder Scrolls V Skyrim</td>\n",
       "      <td>play</td>\n",
       "      <td>273.0</td>\n",
       "    </tr>\n",
       "    <tr>\n",
       "      <th>2</th>\n",
       "      <td>151603712</td>\n",
       "      <td>Fallout 4</td>\n",
       "      <td>purchase</td>\n",
       "      <td>1.0</td>\n",
       "    </tr>\n",
       "    <tr>\n",
       "      <th>3</th>\n",
       "      <td>151603712</td>\n",
       "      <td>Fallout 4</td>\n",
       "      <td>play</td>\n",
       "      <td>87.0</td>\n",
       "    </tr>\n",
       "    <tr>\n",
       "      <th>4</th>\n",
       "      <td>151603712</td>\n",
       "      <td>Spore</td>\n",
       "      <td>purchase</td>\n",
       "      <td>1.0</td>\n",
       "    </tr>\n",
       "    <tr>\n",
       "      <th>...</th>\n",
       "      <td>...</td>\n",
       "      <td>...</td>\n",
       "      <td>...</td>\n",
       "      <td>...</td>\n",
       "    </tr>\n",
       "    <tr>\n",
       "      <th>199995</th>\n",
       "      <td>128470551</td>\n",
       "      <td>Titan Souls</td>\n",
       "      <td>play</td>\n",
       "      <td>1.5</td>\n",
       "    </tr>\n",
       "    <tr>\n",
       "      <th>199996</th>\n",
       "      <td>128470551</td>\n",
       "      <td>Grand Theft Auto Vice City</td>\n",
       "      <td>purchase</td>\n",
       "      <td>1.0</td>\n",
       "    </tr>\n",
       "    <tr>\n",
       "      <th>199997</th>\n",
       "      <td>128470551</td>\n",
       "      <td>Grand Theft Auto Vice City</td>\n",
       "      <td>play</td>\n",
       "      <td>1.5</td>\n",
       "    </tr>\n",
       "    <tr>\n",
       "      <th>199998</th>\n",
       "      <td>128470551</td>\n",
       "      <td>RUSH</td>\n",
       "      <td>purchase</td>\n",
       "      <td>1.0</td>\n",
       "    </tr>\n",
       "    <tr>\n",
       "      <th>199999</th>\n",
       "      <td>128470551</td>\n",
       "      <td>RUSH</td>\n",
       "      <td>play</td>\n",
       "      <td>1.4</td>\n",
       "    </tr>\n",
       "  </tbody>\n",
       "</table>\n",
       "<p>142096 rows × 4 columns</p>\n",
       "</div>"
      ],
      "text/plain": [
       "          user_id                        game  behavior  value\n",
       "0       151603712  The Elder Scrolls V Skyrim  purchase    1.0\n",
       "1       151603712  The Elder Scrolls V Skyrim      play  273.0\n",
       "2       151603712                   Fallout 4  purchase    1.0\n",
       "3       151603712                   Fallout 4      play   87.0\n",
       "4       151603712                       Spore  purchase    1.0\n",
       "...           ...                         ...       ...    ...\n",
       "199995  128470551                 Titan Souls      play    1.5\n",
       "199996  128470551  Grand Theft Auto Vice City  purchase    1.0\n",
       "199997  128470551  Grand Theft Auto Vice City      play    1.5\n",
       "199998  128470551                        RUSH  purchase    1.0\n",
       "199999  128470551                        RUSH      play    1.4\n",
       "\n",
       "[142096 rows x 4 columns]"
      ]
     },
     "metadata": {},
     "output_type": "display_data"
    }
   ],
   "source": [
    "duplicates = df[df.duplicated(subset=[\"user_id\", \"game\"], keep=False)]\n",
    "print(\"These entries have duplicate (user_id, game) pairs:\")\n",
    "display(duplicates)"
   ]
  },
  {
   "cell_type": "code",
   "execution_count": 10,
   "metadata": {},
   "outputs": [
    {
     "name": "stdout",
     "output_type": "stream",
     "text": [
      "128804\n"
     ]
    }
   ],
   "source": [
    "priority_map = {\"play\": 1, \"purchase\": 0}\n",
    "df[\"priority\"] = df[\"behavior\"].map(priority_map)\n",
    "\n",
    "df.sort_values(by=[\"user_id\", \"game\", \"priority\"], \n",
    "               ascending=[True, True, False], \n",
    "               inplace=True)\n",
    "\n",
    "df.drop_duplicates(subset=[\"user_id\", \"game\"], keep=\"first\", inplace=True)\n",
    "df.drop(columns=[\"priority\"], inplace=True)\n",
    "\n",
    "print(len(df))"
   ]
  },
  {
   "cell_type": "code",
   "execution_count": 11,
   "metadata": {},
   "outputs": [],
   "source": [
    "df_names_appid = pd.read_csv(\n",
    "    '../dataset/names_appid_map.csv',\n",
    ")"
   ]
  },
  {
   "cell_type": "code",
   "execution_count": 12,
   "metadata": {},
   "outputs": [],
   "source": [
    "import re\n",
    "EMOJI_PATTERN = re.compile(\"[\"\n",
    "    u\"\\U0001F600-\\U0001F64F\"  # emoticons\n",
    "    u\"\\U0001F300-\\U0001F5FF\"  # symbols & pictographs\n",
    "    u\"\\U0001F680-\\U0001F6FF\"  # transport & map symbols\n",
    "    u\"\\U0001F1E0-\\U0001F1FF\"  # flags (iOS)\n",
    "    \"]+\", flags=re.UNICODE)\n",
    "\n",
    "def clean_game_name(name):\n",
    "    name = name.lower()\n",
    "    name = EMOJI_PATTERN.sub(r'', name)\n",
    "    name = re.sub(r'[^a-z0-9 ]', '', name)\n",
    "    name = re.sub(r'\\s+', ' ', name).strip()\n",
    "    return name\n"
   ]
  },
  {
   "cell_type": "code",
   "execution_count": 13,
   "metadata": {},
   "outputs": [],
   "source": [
    "df_names_appid = df_names_appid.rename(columns={\"name\": \"clean_name\"})\n",
    "df[\"clean_name\"] = df[\"game\"].apply(clean_game_name)\n",
    "\n",
    "df = df.merge(df_names_appid, on=\"clean_name\", how=\"left\")\n",
    "df[\"appid\"] = df[\"appid\"].astype(pd.Int64Dtype(), errors=\"ignore\")\n",
    "df.drop(columns=[\"game\", \"clean_name\"], inplace=True)\n",
    "\n",
    "df.dropna(subset=[\"appid\"], inplace=True)"
   ]
  },
  {
   "cell_type": "code",
   "execution_count": 14,
   "metadata": {},
   "outputs": [
    {
     "name": "stdout",
     "output_type": "stream",
     "text": [
      "    user_id  behavior  value   appid\n",
      "0      5250      play    4.9     630\n",
      "1      5250      play  144.0  255710\n",
      "2      5250  purchase    1.0      10\n",
      "3      5250  purchase    1.0     240\n",
      "4      5250  purchase    1.0      30\n",
      "5      5250  purchase    1.0      40\n",
      "7      5250      play    0.2     570\n",
      "8      5250  purchase    1.0      70\n",
      "9      5250  purchase    1.0     220\n",
      "10     5250  purchase    1.0     320\n"
     ]
    }
   ],
   "source": [
    "print(df.head(10))"
   ]
  },
  {
   "cell_type": "code",
   "execution_count": 16,
   "metadata": {},
   "outputs": [
    {
     "name": "stdout",
     "output_type": "stream",
     "text": [
      "98048\n"
     ]
    }
   ],
   "source": [
    "print(len(df))"
   ]
  },
  {
   "cell_type": "code",
   "execution_count": 79,
   "metadata": {},
   "outputs": [],
   "source": [
    "df.to_csv(\"../dataset/user_data_cleaned.csv\", index=False)"
   ]
  }
 ],
 "metadata": {
  "kernelspec": {
   "display_name": "ml-project",
   "language": "python",
   "name": "python3"
  },
  "language_info": {
   "codemirror_mode": {
    "name": "ipython",
    "version": 3
   },
   "file_extension": ".py",
   "mimetype": "text/x-python",
   "name": "python",
   "nbconvert_exporter": "python",
   "pygments_lexer": "ipython3",
   "version": "3.13.1"
  }
 },
 "nbformat": 4,
 "nbformat_minor": 2
}
