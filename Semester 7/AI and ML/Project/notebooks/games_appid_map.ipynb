{
 "cells": [
  {
   "cell_type": "code",
   "execution_count": 1,
   "metadata": {},
   "outputs": [],
   "source": [
    "import json\n",
    "import pandas as pd"
   ]
  },
  {
   "cell_type": "code",
   "execution_count": null,
   "metadata": {},
   "outputs": [],
   "source": [
    "from ..utils import clean_game_name\n",
    "with open(\"../dataset/games_metadata.json\", \"r\", encoding=\"utf-8\") as f:\n",
    "    data = json.load(f)\n",
    "\n",
    "rows = []\n",
    "for appid, info in data.items():\n",
    "    raw_name = info.get(\"name\", \"\")\n",
    "    cleaned_name = clean_game_name(raw_name)\n",
    "    rows.append([appid, cleaned_name])\n",
    "df = pd.DataFrame(rows, columns=[\"appid\", \"name\"])\n",
    "df.to_csv(\"../dataset/names_appid_map.csv\", index=False)\n"
   ]
  }
 ],
 "metadata": {
  "kernelspec": {
   "display_name": "ml-project",
   "language": "python",
   "name": "python3"
  },
  "language_info": {
   "codemirror_mode": {
    "name": "ipython",
    "version": 3
   },
   "file_extension": ".py",
   "mimetype": "text/x-python",
   "name": "python",
   "nbconvert_exporter": "python",
   "pygments_lexer": "ipython3",
   "version": "3.13.1"
  }
 },
 "nbformat": 4,
 "nbformat_minor": 2
}
